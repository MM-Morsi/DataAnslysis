{
 "cells": [
  {
   "cell_type": "markdown",
   "id": "0445e7cf",
   "metadata": {},
   "source": [
    "# Adding & Removing Columns"
   ]
  },
  {
   "cell_type": "code",
   "execution_count": 1,
   "id": "aa436dee",
   "metadata": {},
   "outputs": [],
   "source": [
    "import pandas as pd\n",
    "houses = pd.read_csv(\"data/kc_house_data.csv\")\n",
    "titanic = pd.read_csv(\"data/titanic.csv\")\n",
    "netflix = pd.read_csv(\"data/netflix_titles.csv\", sep=\"|\", index_col=0)\n",
    "btc = pd.read_csv(\"data/coin_Bitcoin.csv\")\n",
    "countries = pd.read_csv(\"data/world-happiness-report-2021.csv\")"
   ]
  },
  {
   "cell_type": "code",
   "execution_count": null,
   "id": "e43fafaa",
   "metadata": {},
   "outputs": [],
   "source": [
    "countries.set_index(\"Country name\", inplace=True)"
   ]
  },
  {
   "cell_type": "markdown",
   "id": "44db05cc",
   "metadata": {},
   "source": [
    "## Dropping Rows/Cols"
   ]
  },
  {
   "cell_type": "code",
   "execution_count": null,
   "id": "992a690e",
   "metadata": {},
   "outputs": [],
   "source": [
    "btc.drop(labels=\"Symbol\", axis=1)"
   ]
  },
  {
   "cell_type": "code",
   "execution_count": null,
   "id": "180b9245",
   "metadata": {},
   "outputs": [],
   "source": [
    "btc"
   ]
  },
  {
   "cell_type": "code",
   "execution_count": null,
   "id": "03723374",
   "metadata": {},
   "outputs": [],
   "source": [
    "btc.drop(labels=[\"SNo\", \"Name\", \"Symbol\"], axis='columns')"
   ]
  },
  {
   "cell_type": "code",
   "execution_count": null,
   "id": "b3ec9e74",
   "metadata": {},
   "outputs": [],
   "source": [
    "# btc.drop(labels=[\"SNo\", \"Name\", \"Symbol\"], axis='columns')\n",
    "btc.drop(columns=[\"SNo\", \"Name\", \"Symbol\"])"
   ]
  },
  {
   "cell_type": "code",
   "execution_count": null,
   "id": "6788ee79",
   "metadata": {},
   "outputs": [],
   "source": [
    "btc[[\"Date\", \"High\", \"Low\"]]"
   ]
  },
  {
   "cell_type": "code",
   "execution_count": null,
   "id": "e49ca799",
   "metadata": {},
   "outputs": [],
   "source": [
    "btc.drop(columns=[\"SNo\", \"Name\", \"Symbol\"], inplace=True)"
   ]
  },
  {
   "cell_type": "code",
   "execution_count": null,
   "id": "f5a9053d",
   "metadata": {},
   "outputs": [],
   "source": [
    "btc"
   ]
  },
  {
   "cell_type": "code",
   "execution_count": null,
   "id": "7adbbeb5",
   "metadata": {},
   "outputs": [],
   "source": [
    "countries"
   ]
  },
  {
   "cell_type": "code",
   "execution_count": null,
   "id": "d0e7e179",
   "metadata": {},
   "outputs": [],
   "source": [
    "countries.drop(labels=\"Denmark\", axis=0)"
   ]
  },
  {
   "cell_type": "code",
   "execution_count": null,
   "id": "f99200f8",
   "metadata": {},
   "outputs": [],
   "source": [
    "countries"
   ]
  },
  {
   "cell_type": "code",
   "execution_count": null,
   "id": "6878efc5",
   "metadata": {},
   "outputs": [],
   "source": [
    "countries.drop([\"Denmark\", \"Iceland\", \"Finland\"])"
   ]
  },
  {
   "cell_type": "code",
   "execution_count": null,
   "id": "3ed9706b",
   "metadata": {},
   "outputs": [],
   "source": [
    "btc.sort_index(ascending=False, inplace=True)\n",
    "btc.drop(2990)"
   ]
  },
  {
   "cell_type": "code",
   "execution_count": null,
   "id": "c6e09a49",
   "metadata": {},
   "outputs": [],
   "source": [
    "countries"
   ]
  },
  {
   "cell_type": "code",
   "execution_count": null,
   "id": "fd2d4e41",
   "metadata": {},
   "outputs": [],
   "source": [
    "countries.drop(countries.index[0])"
   ]
  },
  {
   "cell_type": "code",
   "execution_count": null,
   "id": "ca7fdf1b",
   "metadata": {},
   "outputs": [],
   "source": [
    "countries.drop(countries.index[10:])"
   ]
  },
  {
   "cell_type": "markdown",
   "id": "9fbb4c63",
   "metadata": {},
   "source": [
    "## Adding Columns"
   ]
  },
  {
   "cell_type": "code",
   "execution_count": null,
   "id": "0386b44a",
   "metadata": {},
   "outputs": [],
   "source": [
    "titanic[\"species\"] = \"human\"\n",
    "titanic"
   ]
  },
  {
   "cell_type": "code",
   "execution_count": null,
   "id": "dd2f78d5",
   "metadata": {},
   "outputs": [],
   "source": [
    "houses.insert(0, \"county\", \"King County\")"
   ]
  },
  {
   "cell_type": "code",
   "execution_count": null,
   "id": "3c2eaa52",
   "metadata": {},
   "outputs": [],
   "source": [
    "houses"
   ]
  },
  {
   "cell_type": "code",
   "execution_count": null,
   "id": "027f0ba8",
   "metadata": {},
   "outputs": [],
   "source": [
    "houses[\"sale_price\"] = houses[\"price\"]"
   ]
  },
  {
   "cell_type": "code",
   "execution_count": null,
   "id": "67349c73",
   "metadata": {},
   "outputs": [],
   "source": [
    "houses"
   ]
  },
  {
   "cell_type": "code",
   "execution_count": null,
   "id": "4f510760",
   "metadata": {},
   "outputs": [],
   "source": [
    "houses.insert(3, \"num_bedrooms\", houses[\"bedrooms\"])"
   ]
  },
  {
   "cell_type": "code",
   "execution_count": null,
   "id": "b7a77af4",
   "metadata": {},
   "outputs": [],
   "source": [
    "houses"
   ]
  },
  {
   "cell_type": "code",
   "execution_count": null,
   "id": "bd9ab584",
   "metadata": {},
   "outputs": [],
   "source": [
    "titanic.drop(columns=[\"species\"], inplace=True)"
   ]
  },
  {
   "cell_type": "code",
   "execution_count": null,
   "id": "86f86a12",
   "metadata": {},
   "outputs": [],
   "source": [
    "titanic[\"sibsp\"]"
   ]
  },
  {
   "cell_type": "code",
   "execution_count": null,
   "id": "84df3e55",
   "metadata": {},
   "outputs": [],
   "source": [
    "titanic[\"parch\"]"
   ]
  },
  {
   "cell_type": "code",
   "execution_count": null,
   "id": "4dade9bd",
   "metadata": {},
   "outputs": [],
   "source": [
    "titanic[\"sibsp\"] + titanic[\"parch\"]"
   ]
  },
  {
   "cell_type": "code",
   "execution_count": null,
   "id": "9062b3de",
   "metadata": {},
   "outputs": [],
   "source": [
    "titanic[\"num_relatives\"] = titanic[\"sibsp\"] + titanic[\"parch\"]"
   ]
  },
  {
   "cell_type": "code",
   "execution_count": null,
   "id": "68f8c2c1",
   "metadata": {
    "scrolled": true
   },
   "outputs": [],
   "source": [
    "titanic"
   ]
  },
  {
   "cell_type": "code",
   "execution_count": null,
   "id": "c84d52ac",
   "metadata": {},
   "outputs": [],
   "source": [
    "titanic.sort_values(\"num_relatives\", ascending=False)"
   ]
  },
  {
   "cell_type": "code",
   "execution_count": null,
   "id": "db395532",
   "metadata": {},
   "outputs": [],
   "source": [
    "titanic[titanic[\"survived\"] == 1].sort_values(\"num_relatives\", ascending=False)"
   ]
  },
  {
   "cell_type": "code",
   "execution_count": null,
   "id": "b3c48b64",
   "metadata": {},
   "outputs": [],
   "source": [
    "solo_passengers = titanic[\"num_relatives\"] == 0\n",
    "titanic[solo_passengers].sex.value_counts().plot(kind=\"pie\")"
   ]
  },
  {
   "cell_type": "code",
   "execution_count": null,
   "id": "e7129055",
   "metadata": {},
   "outputs": [],
   "source": [
    "titanic.sex.value_counts().plot(kind=\"pie\")"
   ]
  },
  {
   "cell_type": "code",
   "execution_count": null,
   "id": "1fadd1c9",
   "metadata": {},
   "outputs": [],
   "source": [
    "houses[\"price_sqft\"] = houses[\"price\"] / houses[\"sqft_living\"]"
   ]
  },
  {
   "cell_type": "code",
   "execution_count": null,
   "id": "e326b6f2",
   "metadata": {},
   "outputs": [],
   "source": [
    "houses"
   ]
  },
  {
   "cell_type": "code",
   "execution_count": null,
   "id": "37fcb25c",
   "metadata": {},
   "outputs": [],
   "source": [
    "houses.sort_values(\"price_sqft\", ascending=False)"
   ]
  },
  {
   "cell_type": "code",
   "execution_count": null,
   "id": "a3ae90ea",
   "metadata": {},
   "outputs": [],
   "source": [
    "houses.sort_values(\"price_sqft\", ascending=False).head(50)[\"zipcode\"].value_counts().plot(kind=\"bar\")"
   ]
  },
  {
   "cell_type": "code",
   "execution_count": null,
   "id": "a387ec94",
   "metadata": {},
   "outputs": [],
   "source": [
    "btc.set_index(\"Date\")"
   ]
  },
  {
   "cell_type": "code",
   "execution_count": null,
   "id": "1b4d9882",
   "metadata": {},
   "outputs": [],
   "source": [
    "btc[\"change\"] = btc[\"Close\"] - btc[\"Open\"]"
   ]
  },
  {
   "cell_type": "code",
   "execution_count": null,
   "id": "8a43309f",
   "metadata": {},
   "outputs": [],
   "source": [
    "btc.sort_values(\"change\", ascending=False)"
   ]
  },
  {
   "cell_type": "code",
   "execution_count": null,
   "id": "a470430d",
   "metadata": {},
   "outputs": [],
   "source": [
    "btc[\"delta\"] = btc[\"High\"] - btc[\"Low\"]"
   ]
  },
  {
   "cell_type": "code",
   "execution_count": null,
   "id": "5b4bb7a6",
   "metadata": {},
   "outputs": [],
   "source": [
    "btc.sort_values(\"delta\", ascending=False)"
   ]
  },
  {
   "cell_type": "code",
   "execution_count": null,
   "id": "004ea2fc",
   "metadata": {},
   "outputs": [],
   "source": [
    "btc.set_index(\"Date\", inplace=True)"
   ]
  },
  {
   "cell_type": "code",
   "execution_count": null,
   "id": "d4c794fd",
   "metadata": {},
   "outputs": [],
   "source": [
    "btc.sort_values(\"delta\", ascending=False).head(10)[\"delta\"].plot(kind=\"bar\")"
   ]
  }
 ],
 "metadata": {
  "kernelspec": {
   "display_name": "base",
   "language": "python",
   "name": "python3"
  },
  "language_info": {
   "codemirror_mode": {
    "name": "ipython",
    "version": 3
   },
   "file_extension": ".py",
   "mimetype": "text/x-python",
   "name": "python",
   "nbconvert_exporter": "python",
   "pygments_lexer": "ipython3",
   "version": "3.9.13"
  },
  "vscode": {
   "interpreter": {
    "hash": "40d3a090f54c6569ab1632332b64b2c03c39dcf918b08424e98f38b5ae0af88f"
   }
  }
 },
 "nbformat": 4,
 "nbformat_minor": 5
}
